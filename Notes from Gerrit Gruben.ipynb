{
 "cells": [
  {
   "cell_type": "markdown",
   "metadata": {},
   "source": [
    "https://www.youtube.com/watch?v=b8g-8T0amuk&t=1202s"
   ]
  },
  {
   "cell_type": "code",
   "execution_count": null,
   "metadata": {
    "ExecuteTime": {
     "start_time": "2018-11-24T21:06:48.024Z"
    },
    "scrolled": true
   },
   "outputs": [],
   "source": [
    "! pip freeze"
   ]
  },
  {
   "cell_type": "code",
   "execution_count": 2,
   "metadata": {},
   "outputs": [],
   "source": [
    "# !jt -t chesterish"
   ]
  },
  {
   "cell_type": "code",
   "execution_count": 1,
   "metadata": {},
   "outputs": [
    {
     "name": "stdout",
     "output_type": "stream",
     "text": [
      "Reset css and font defaults in:\n",
      "C:\\Users\\johanh\\.jupyter\\custom &\n",
      "C:\\Users\\johanh\\AppData\\Roaming\\jupyter\\nbextensions\n"
     ]
    }
   ],
   "source": [
    "# !jt -r"
   ]
  },
  {
   "cell_type": "code",
   "execution_count": 3,
   "metadata": {},
   "outputs": [],
   "source": [
    "# !jt -t oceans16"
   ]
  },
  {
   "cell_type": "code",
   "execution_count": null,
   "metadata": {},
   "outputs": [],
   "source": [
    "# !conda install -c conda-forge jupyter_nbextensions_configurator"
   ]
  },
  {
   "cell_type": "markdown",
   "metadata": {},
   "source": [
    "# New heading"
   ]
  },
  {
   "cell_type": "code",
   "execution_count": 2,
   "metadata": {},
   "outputs": [
    {
     "name": "stdout",
     "output_type": "stream",
     "text": [
      "Collecting https://github.com/ipython-contrib/jupyter_contrib_nbextensions/tarball/master\n",
      "  Downloading https://github.com/ipython-contrib/jupyter_contrib_nbextensions/tarball/master\n",
      "Requirement already satisfied: ipython_genutils in c:\\users\\johanh\\appdata\\local\\continuum\\anaconda3\\lib\\site-packages (from jupyter-contrib-nbextensions==0.5.0) (0.2.0)\n",
      "Collecting jupyter_contrib_core>=0.3.3 (from jupyter-contrib-nbextensions==0.5.0)\n",
      "  Using cached https://files.pythonhosted.org/packages/e6/8f/04a752a8b66a66e7092c035e5d87d2502ac7ec07f9fb6059059b6c0dc272/jupyter_contrib_core-0.3.3-py2.py3-none-any.whl\n",
      "Requirement already satisfied: jupyter_core in c:\\users\\johanh\\appdata\\local\\continuum\\anaconda3\\lib\\site-packages (from jupyter-contrib-nbextensions==0.5.0) (4.4.0)\n",
      "Collecting jupyter_highlight_selected_word>=0.1.1 (from jupyter-contrib-nbextensions==0.5.0)\n",
      "  Downloading https://files.pythonhosted.org/packages/50/d7/19ab7cfd60bf268d2abbacc52d4295a40f52d74dfc0d938e4761ee5e598b/jupyter_highlight_selected_word-0.2.0-py2.py3-none-any.whl\n",
      "Collecting jupyter_latex_envs>=1.3.8 (from jupyter-contrib-nbextensions==0.5.0)\n",
      "  Downloading https://files.pythonhosted.org/packages/98/db/ef83fb7a8dd71a1c38d8cc5484bb5226dcd8dd996483d6ad3d944670c57b/jupyter_latex_envs-1.4.4.tar.gz (855kB)\n",
      "Collecting jupyter_nbextensions_configurator>=0.4.0 (from jupyter-contrib-nbextensions==0.5.0)\n",
      "  Using cached https://files.pythonhosted.org/packages/d1/d8/6bf103e0eafd17caef39c37ff70b8d61bfb21cc8cd91c81ba51755421a34/jupyter_nbextensions_configurator-0.4.0-py2.py3-none-any.whl\n",
      "Requirement already satisfied: nbconvert>=4.2 in c:\\users\\johanh\\appdata\\local\\continuum\\anaconda3\\lib\\site-packages (from jupyter-contrib-nbextensions==0.5.0) (5.4.0)\n",
      "Requirement already satisfied: notebook>=4.0 in c:\\users\\johanh\\appdata\\local\\continuum\\anaconda3\\lib\\site-packages (from jupyter-contrib-nbextensions==0.5.0) (5.6.0)\n",
      "Requirement already satisfied: pyyaml in c:\\users\\johanh\\appdata\\local\\continuum\\anaconda3\\lib\\site-packages (from jupyter-contrib-nbextensions==0.5.0) (3.13)\n",
      "Requirement already satisfied: tornado in c:\\users\\johanh\\appdata\\local\\continuum\\anaconda3\\lib\\site-packages (from jupyter-contrib-nbextensions==0.5.0) (5.1)\n",
      "Requirement already satisfied: traitlets>=4.1 in c:\\users\\johanh\\appdata\\local\\continuum\\anaconda3\\lib\\site-packages (from jupyter-contrib-nbextensions==0.5.0) (4.3.2)\n",
      "Requirement already satisfied: lxml in c:\\users\\johanh\\appdata\\local\\continuum\\anaconda3\\lib\\site-packages (from jupyter-contrib-nbextensions==0.5.0) (4.2.5)\n",
      "Requirement already satisfied: setuptools in c:\\users\\johanh\\appdata\\local\\continuum\\anaconda3\\lib\\site-packages (from jupyter_contrib_core>=0.3.3->jupyter-contrib-nbextensions==0.5.0) (40.2.0)\n",
      "Requirement already satisfied: ipython in c:\\users\\johanh\\appdata\\local\\continuum\\anaconda3\\lib\\site-packages (from jupyter_latex_envs>=1.3.8->jupyter-contrib-nbextensions==0.5.0) (6.5.0)\n",
      "Requirement already satisfied: mistune>=0.8.1 in c:\\users\\johanh\\appdata\\local\\continuum\\anaconda3\\lib\\site-packages (from nbconvert>=4.2->jupyter-contrib-nbextensions==0.5.0) (0.8.3)\n",
      "Requirement already satisfied: jinja2 in c:\\users\\johanh\\appdata\\local\\continuum\\anaconda3\\lib\\site-packages (from nbconvert>=4.2->jupyter-contrib-nbextensions==0.5.0) (2.10)\n",
      "Requirement already satisfied: pygments in c:\\users\\johanh\\appdata\\local\\continuum\\anaconda3\\lib\\site-packages (from nbconvert>=4.2->jupyter-contrib-nbextensions==0.5.0) (2.2.0)\n",
      "Requirement already satisfied: nbformat>=4.4 in c:\\users\\johanh\\appdata\\local\\continuum\\anaconda3\\lib\\site-packages (from nbconvert>=4.2->jupyter-contrib-nbextensions==0.5.0) (4.4.0)\n",
      "Requirement already satisfied: entrypoints>=0.2.2 in c:\\users\\johanh\\appdata\\local\\continuum\\anaconda3\\lib\\site-packages (from nbconvert>=4.2->jupyter-contrib-nbextensions==0.5.0) (0.2.3)\n",
      "Requirement already satisfied: bleach in c:\\users\\johanh\\appdata\\local\\continuum\\anaconda3\\lib\\site-packages (from nbconvert>=4.2->jupyter-contrib-nbextensions==0.5.0) (2.1.4)\n",
      "Requirement already satisfied: pandocfilters>=1.4.1 in c:\\users\\johanh\\appdata\\local\\continuum\\anaconda3\\lib\\site-packages (from nbconvert>=4.2->jupyter-contrib-nbextensions==0.5.0) (1.4.2)\n",
      "Requirement already satisfied: testpath in c:\\users\\johanh\\appdata\\local\\continuum\\anaconda3\\lib\\site-packages (from nbconvert>=4.2->jupyter-contrib-nbextensions==0.5.0) (0.3.1)\n",
      "Requirement already satisfied: defusedxml in c:\\users\\johanh\\appdata\\local\\continuum\\anaconda3\\lib\\site-packages (from nbconvert>=4.2->jupyter-contrib-nbextensions==0.5.0) (0.5.0)\n",
      "Requirement already satisfied: jupyter-client>=5.2.0 in c:\\users\\johanh\\appdata\\local\\continuum\\anaconda3\\lib\\site-packages (from notebook>=4.0->jupyter-contrib-nbextensions==0.5.0) (5.2.3)\n",
      "Requirement already satisfied: prometheus-client in c:\\users\\johanh\\appdata\\local\\continuum\\anaconda3\\lib\\site-packages (from notebook>=4.0->jupyter-contrib-nbextensions==0.5.0) (0.3.1)\n",
      "Requirement already satisfied: terminado>=0.8.1 in c:\\users\\johanh\\appdata\\local\\continuum\\anaconda3\\lib\\site-packages (from notebook>=4.0->jupyter-contrib-nbextensions==0.5.0) (0.8.1)\n",
      "Requirement already satisfied: ipykernel in c:\\users\\johanh\\appdata\\local\\continuum\\anaconda3\\lib\\site-packages (from notebook>=4.0->jupyter-contrib-nbextensions==0.5.0) (4.10.0)\n",
      "Requirement already satisfied: pyzmq>=17 in c:\\users\\johanh\\appdata\\local\\continuum\\anaconda3\\lib\\site-packages (from notebook>=4.0->jupyter-contrib-nbextensions==0.5.0) (17.1.2)\n",
      "Requirement already satisfied: Send2Trash in c:\\users\\johanh\\appdata\\local\\continuum\\anaconda3\\lib\\site-packages (from notebook>=4.0->jupyter-contrib-nbextensions==0.5.0) (1.5.0)\n",
      "Requirement already satisfied: decorator in c:\\users\\johanh\\appdata\\local\\continuum\\anaconda3\\lib\\site-packages (from traitlets>=4.1->jupyter-contrib-nbextensions==0.5.0) (4.3.0)\n",
      "Requirement already satisfied: six in c:\\users\\johanh\\appdata\\local\\continuum\\anaconda3\\lib\\site-packages (from traitlets>=4.1->jupyter-contrib-nbextensions==0.5.0) (1.11.0)\n",
      "Requirement already satisfied: jedi>=0.10 in c:\\users\\johanh\\appdata\\local\\continuum\\anaconda3\\lib\\site-packages (from ipython->jupyter_latex_envs>=1.3.8->jupyter-contrib-nbextensions==0.5.0) (0.12.1)\n",
      "Requirement already satisfied: backcall in c:\\users\\johanh\\appdata\\local\\continuum\\anaconda3\\lib\\site-packages (from ipython->jupyter_latex_envs>=1.3.8->jupyter-contrib-nbextensions==0.5.0) (0.1.0)\n",
      "Requirement already satisfied: colorama; sys_platform == \"win32\" in c:\\users\\johanh\\appdata\\local\\continuum\\anaconda3\\lib\\site-packages (from ipython->jupyter_latex_envs>=1.3.8->jupyter-contrib-nbextensions==0.5.0) (0.3.9)\n",
      "Requirement already satisfied: pickleshare in c:\\users\\johanh\\appdata\\local\\continuum\\anaconda3\\lib\\site-packages (from ipython->jupyter_latex_envs>=1.3.8->jupyter-contrib-nbextensions==0.5.0) (0.7.4)\n",
      "Requirement already satisfied: prompt-toolkit<2.0.0,>=1.0.15 in c:\\users\\johanh\\appdata\\local\\continuum\\anaconda3\\lib\\site-packages (from ipython->jupyter_latex_envs>=1.3.8->jupyter-contrib-nbextensions==0.5.0) (1.0.15)\n",
      "Requirement already satisfied: simplegeneric>0.8 in c:\\users\\johanh\\appdata\\local\\continuum\\anaconda3\\lib\\site-packages (from ipython->jupyter_latex_envs>=1.3.8->jupyter-contrib-nbextensions==0.5.0) (0.8.1)\n",
      "Requirement already satisfied: MarkupSafe>=0.23 in c:\\users\\johanh\\appdata\\local\\continuum\\anaconda3\\lib\\site-packages (from jinja2->nbconvert>=4.2->jupyter-contrib-nbextensions==0.5.0) (1.0)\n",
      "Requirement already satisfied: jsonschema!=2.5.0,>=2.4 in c:\\users\\johanh\\appdata\\local\\continuum\\anaconda3\\lib\\site-packages (from nbformat>=4.4->nbconvert>=4.2->jupyter-contrib-nbextensions==0.5.0) (2.6.0)\n",
      "Requirement already satisfied: html5lib!=1.0b1,!=1.0b2,!=1.0b3,!=1.0b4,!=1.0b5,!=1.0b6,!=1.0b7,!=1.0b8,>=0.99999999pre in c:\\users\\johanh\\appdata\\local\\continuum\\anaconda3\\lib\\site-packages (from bleach->nbconvert>=4.2->jupyter-contrib-nbextensions==0.5.0) (1.0.1)\n",
      "Requirement already satisfied: python-dateutil>=2.1 in c:\\users\\johanh\\appdata\\local\\continuum\\anaconda3\\lib\\site-packages (from jupyter-client>=5.2.0->notebook>=4.0->jupyter-contrib-nbextensions==0.5.0) (2.7.3)\n",
      "Requirement already satisfied: parso>=0.3.0 in c:\\users\\johanh\\appdata\\local\\continuum\\anaconda3\\lib\\site-packages (from jedi>=0.10->ipython->jupyter_latex_envs>=1.3.8->jupyter-contrib-nbextensions==0.5.0) (0.3.1)\n",
      "Requirement already satisfied: wcwidth in c:\\users\\johanh\\appdata\\local\\continuum\\anaconda3\\lib\\site-packages (from prompt-toolkit<2.0.0,>=1.0.15->ipython->jupyter_latex_envs>=1.3.8->jupyter-contrib-nbextensions==0.5.0) (0.1.7)\n",
      "Requirement already satisfied: webencodings in c:\\users\\johanh\\appdata\\local\\continuum\\anaconda3\\lib\\site-packages (from html5lib!=1.0b1,!=1.0b2,!=1.0b3,!=1.0b4,!=1.0b5,!=1.0b6,!=1.0b7,!=1.0b8,>=0.99999999pre->bleach->nbconvert>=4.2->jupyter-contrib-nbextensions==0.5.0) (0.5.1)\n",
      "Building wheels for collected packages: jupyter-contrib-nbextensions, jupyter-latex-envs\n",
      "  Running setup.py bdist_wheel for jupyter-contrib-nbextensions: started\n",
      "  Running setup.py bdist_wheel for jupyter-contrib-nbextensions: finished with status 'done'\n",
      "  Stored in directory: C:\\Users\\johanh\\AppData\\Local\\Temp\\pip-ephem-wheel-cache-vfxivz1a\\wheels\\22\\4a\\9f\\df59e985684a10ea0e025300581870b5b3a300ee3525f0eef5\n",
      "  Running setup.py bdist_wheel for jupyter-latex-envs: started\n",
      "  Running setup.py bdist_wheel for jupyter-latex-envs: finished with status 'done'\n",
      "  Stored in directory: C:\\Users\\johanh\\AppData\\Local\\pip\\Cache\\wheels\\65\\c1\\0f\\b90b6d7032c79ee40181fdadb72b2ef9a186f02269d6c52f02\n",
      "Successfully built jupyter-contrib-nbextensions jupyter-latex-envs\n",
      "Installing collected packages: jupyter-contrib-core, jupyter-highlight-selected-word, jupyter-latex-envs, jupyter-nbextensions-configurator, jupyter-contrib-nbextensions\n",
      "Successfully installed jupyter-contrib-core-0.3.3 jupyter-contrib-nbextensions-0.5.0 jupyter-highlight-selected-word-0.2.0 jupyter-latex-envs-1.4.4 jupyter-nbextensions-configurator-0.4.0\n"
     ]
    }
   ],
   "source": [
    "# !pip install https://github.com/ipython-contrib/jupyter_contrib_nbextensions/tarball/master"
   ]
  },
  {
   "cell_type": "code",
   "execution_count": 2,
   "metadata": {},
   "outputs": [
    {
     "name": "stderr",
     "output_type": "stream",
     "text": [
      "Please specify an nbextension/package to enable or disable\n"
     ]
    }
   ],
   "source": [
    "!jupyter nbextension enable "
   ]
  },
  {
   "cell_type": "code",
   "execution_count": null,
   "metadata": {},
   "outputs": [],
   "source": [
    "!jupyter contrib nbextension install --user"
   ]
  },
  {
   "cell_type": "code",
   "execution_count": null,
   "metadata": {},
   "outputs": [],
   "source": [
    "!jupyter nbextension enable codefolding/main"
   ]
  },
  {
   "cell_type": "code",
   "execution_count": null,
   "metadata": {},
   "outputs": [],
   "source": [
    "jupyter nbextension list"
   ]
  },
  {
   "cell_type": "markdown",
   "metadata": {
    "lang": "en"
   },
   "source": [
    "hello df df what is this "
   ]
  },
  {
   "cell_type": "markdown",
   "metadata": {
    "lang": "en"
   },
   "source": [
    "bonjour df df qu'est ce que c'est"
   ]
  },
  {
   "cell_type": "markdown",
   "metadata": {},
   "source": [
    "# New heading"
   ]
  },
  {
   "cell_type": "markdown",
   "metadata": {},
   "source": [
    "# New heading"
   ]
  },
  {
   "cell_type": "markdown",
   "metadata": {
    "lang": "en"
   },
   "source": [
    "bonjour df df qu'est ce que c'est"
   ]
  },
  {
   "cell_type": "markdown",
   "metadata": {
    "lang": "fr"
   },
   "source": [
    "bonjour df df qu'est ce que c'est"
   ]
  },
  {
   "cell_type": "markdown",
   "metadata": {},
   "source": [
    "# New heading"
   ]
  },
  {
   "cell_type": "markdown",
   "metadata": {},
   "source": [
    "# New heading"
   ]
  },
  {
   "cell_type": "markdown",
   "metadata": {},
   "source": [
    "# New heading"
   ]
  },
  {
   "cell_type": "markdown",
   "metadata": {},
   "source": [
    "# New heading"
   ]
  },
  {
   "cell_type": "markdown",
   "metadata": {},
   "source": [
    "# New heading"
   ]
  },
  {
   "cell_type": "markdown",
   "metadata": {},
   "source": [
    "# New heading"
   ]
  }
 ],
 "metadata": {
  "hide_input": false,
  "kernelspec": {
   "display_name": "Python 3",
   "language": "python",
   "name": "python3"
  },
  "latex_envs": {
   "LaTeX_envs_menu_present": true,
   "autoclose": false,
   "autocomplete": true,
   "bibliofile": "biblio.bib",
   "cite_by": "apalike",
   "current_citInitial": 1,
   "eqLabelWithNumbers": true,
   "eqNumInitial": 1,
   "hotkeys": {
    "equation": "Ctrl-E",
    "itemize": "Ctrl-I"
   },
   "labels_anchors": false,
   "latex_user_defs": false,
   "report_style_numbering": false,
   "user_envs_cfg": false
  },
  "nbTranslate": {
   "displayLangs": [
    "*"
   ],
   "hotkey": "alt-t",
   "langInMainMenu": true,
   "sourceLang": "en",
   "targetLang": "fr",
   "useGoogleTranslate": true
  },
  "toc": {
   "base_numbering": 1,
   "nav_menu": {},
   "number_sections": true,
   "sideBar": true,
   "skip_h1_title": false,
   "title_cell": "Table of Contents",
   "title_sidebar": "Contents",
   "toc_cell": false,
   "toc_position": {},
   "toc_section_display": true,
   "toc_window_display": false
  },
  "varInspector": {
   "cols": {
    "lenName": 16,
    "lenType": 16,
    "lenVar": 40
   },
   "kernels_config": {
    "python": {
     "delete_cmd_postfix": "",
     "delete_cmd_prefix": "del ",
     "library": "var_list.py",
     "varRefreshCmd": "print(var_dic_list())"
    },
    "r": {
     "delete_cmd_postfix": ") ",
     "delete_cmd_prefix": "rm(",
     "library": "var_list.r",
     "varRefreshCmd": "cat(var_dic_list()) "
    }
   },
   "types_to_exclude": [
    "module",
    "function",
    "builtin_function_or_method",
    "instance",
    "_Feature"
   ],
   "window_display": false
  }
 },
 "nbformat": 4,
 "nbformat_minor": 2
}
